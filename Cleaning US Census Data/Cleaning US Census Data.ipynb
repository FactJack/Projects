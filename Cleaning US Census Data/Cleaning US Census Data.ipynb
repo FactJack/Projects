{
 "cells": [
  {
   "cell_type": "markdown",
   "metadata": {},
   "source": [
    "# Cleaning US Census Data"
   ]
  },
  {
   "cell_type": "markdown",
   "metadata": {},
   "source": [
    "You just got hired as a Data Analyst at the Census Bureau, which collects census data and creates interesting visualizations and insights from it.\n",
    "\n",
    "The person who had your job before you left you all the data they had for the most recent census. It is in multiple `csv` files. They didn't use pandas, they would just look through these `csv` files manually whenever they wanted to find something. Sometimes they would copy and paste certain numbers into Excel to make charts.\n",
    "\n",
    "The thought of it makes you shiver. This is not scalable or repeatable.\n",
    "\n",
    "Your boss wants you to make some scatterplots and histograms by the end of the day. Can you get this data into `pandas` and into reasonable shape so that you can make these histograms?"
   ]
  },
  {
   "cell_type": "markdown",
   "metadata": {},
   "source": [
    "## Inspect the Data!"
   ]
  },
  {
   "cell_type": "markdown",
   "metadata": {},
   "source": [
    "1. The first visualization your boss wants you to make is a scatterplot that shows average income in a state vs proportion of women in that state.\n",
    "\n",
    "Take a quick look at the csv files. How are they named? What kind of information do they hold? Will they help us make this graph?"
   ]
  },
  {
   "cell_type": "code",
   "execution_count": 6,
   "metadata": {},
   "outputs": [
    {
     "name": "stdout",
     "output_type": "stream",
     "text": [
      "   Unnamed: 0                 State  TotalPop Hispanic   White   Black Native  \\\n",
      "0           0              Colorado   5278906   20.78%  69.90%   3.55%  0.57%   \n",
      "1           1           Connecticut   3593222   15.60%  67.68%  10.35%  0.13%   \n",
      "2           2              Delaware    926454    8.82%  64.63%  20.74%  0.26%   \n",
      "3           3  District of Columbia    647484    9.17%  33.10%  51.78%  0.20%   \n",
      "4           4               Florida  19645772   21.34%  59.08%  15.17%  0.21%   \n",
      "\n",
      "   Asian Pacific       Income           GenderPop  \n",
      "0  2.66%     NaN  $64,657.80    2648667M_2630239F  \n",
      "1  4.02%   0.02%  $76,146.56    1751607M_1841615F  \n",
      "2  3.27%     NaN  $61,827.98      448413M_478041F  \n",
      "3  3.38%   0.03%  $75,466.36      306674M_340810F  \n",
      "4  2.28%   0.05%  $50,690.19   9600009M_10045763F  \n"
     ]
    }
   ],
   "source": [
    "import pandas as pd\n",
    "import numpy as np\n",
    "import matplotlib.pyplot as plt\n",
    "peak = pd.read_csv('states1.csv')\n",
    "print(peak.head())"
   ]
  },
  {
   "cell_type": "markdown",
   "metadata": {},
   "source": [
    "2. Using `glob`, loop through the census files available and load them into DataFrames. Then, concatenate all of those DataFrames together into one DataFrame, called something like `us_census`."
   ]
  },
  {
   "cell_type": "code",
   "execution_count": 8,
   "metadata": {},
   "outputs": [],
   "source": [
    "import glob\n",
    "files = glob.glob('states*.csv')\n",
    "df_list = []\n",
    "for afile in files:\n",
    "  data = pd.read_csv(afile)\n",
    "  df_list.append(data)\n",
    "states = pd.concat(df_list)"
   ]
  },
  {
   "cell_type": "markdown",
   "metadata": {},
   "source": [
    "3. Look at the `.columns` and the `.dtypes` of the `us_census` DataFrame. Are those datatypes going to hinder you as you try to make histograms?"
   ]
  },
  {
   "cell_type": "code",
   "execution_count": 10,
   "metadata": {},
   "outputs": [
    {
     "name": "stdout",
     "output_type": "stream",
     "text": [
      "Index(['Unnamed: 0', 'State', 'TotalPop', 'Hispanic', 'White', 'Black',\n",
      "       'Native', 'Asian', 'Pacific', 'Income', 'GenderPop'],\n",
      "      dtype='object') Unnamed: 0     int64\n",
      "State         object\n",
      "TotalPop       int64\n",
      "Hispanic      object\n",
      "White         object\n",
      "Black         object\n",
      "Native        object\n",
      "Asian         object\n",
      "Pacific       object\n",
      "Income        object\n",
      "GenderPop     object\n",
      "dtype: object\n"
     ]
    }
   ],
   "source": [
    "print(states.columns, states.dtypes)"
   ]
  },
  {
   "cell_type": "markdown",
   "metadata": {},
   "source": [
    "4. Look at the `head()` of the DataFrame so that you can understand why some of these `dtypes` are objects instead of integers or floats.\n",
    "\n",
    "   Start to make a plan for how to convert these columns into the right types for manipulation."
   ]
  },
  {
   "cell_type": "code",
   "execution_count": 12,
   "metadata": {},
   "outputs": [
    {
     "name": "stdout",
     "output_type": "stream",
     "text": [
      "<class 'pandas.core.frame.DataFrame'>\n",
      "Index: 60 entries, 0 to 5\n",
      "Data columns (total 11 columns):\n",
      " #   Column      Non-Null Count  Dtype \n",
      "---  ------      --------------  ----- \n",
      " 0   Unnamed: 0  60 non-null     int64 \n",
      " 1   State       60 non-null     object\n",
      " 2   TotalPop    60 non-null     int64 \n",
      " 3   Hispanic    60 non-null     object\n",
      " 4   White       60 non-null     object\n",
      " 5   Black       60 non-null     object\n",
      " 6   Native      60 non-null     object\n",
      " 7   Asian       60 non-null     object\n",
      " 8   Pacific     55 non-null     object\n",
      " 9   Income      60 non-null     object\n",
      " 10  GenderPop   60 non-null     object\n",
      "dtypes: int64(2), object(9)\n",
      "memory usage: 5.6+ KB\n",
      "   Unnamed: 0           State  TotalPop Hispanic   White   Black Native  \\\n",
      "0           0    Rhode Island   1053661   13.36%  74.33%   5.68%  0.35%   \n",
      "1           1  South Carolina   4777576    5.06%  62.89%  28.75%  0.29%   \n",
      "2           2    South Dakota    843190    3.24%  82.50%   1.42%  9.42%   \n",
      "3           3       Tennessee   6499615    4.72%  73.49%  18.28%  0.23%   \n",
      "4           4           Texas  26538614   38.05%  44.69%  11.65%  0.26%   \n",
      "\n",
      "   Asian Pacific       Income            GenderPop  \n",
      "0  3.25%   0.04%  $59,125.27       510388M_543273F  \n",
      "1  1.25%   0.05%  $46,296.81     2322409M_2455167F  \n",
      "2  1.02%   0.04%  $51,805.41       423477M_419713F  \n",
      "3  1.41%   0.04%  $47,328.08     3167756M_3331859F  \n",
      "4  3.67%   0.07%  $55,874.52   13171316M_13367298F   None\n"
     ]
    }
   ],
   "source": [
    "print(states.head(), states.info())"
   ]
  },
  {
   "cell_type": "markdown",
   "metadata": {},
   "source": [
    "## Regex to the Rescue"
   ]
  },
  {
   "cell_type": "markdown",
   "metadata": {},
   "source": [
    "5. Use regex to turn the `Income` column into a format that is ready for conversion into a numerical type."
   ]
  },
  {
   "cell_type": "code",
   "execution_count": 15,
   "metadata": {},
   "outputs": [],
   "source": [
    "states['Income'] = states['Income'].str.replace('$', '')\n",
    "states['Income'] = states['Income'].str.replace(',', '')"
   ]
  },
  {
   "cell_type": "markdown",
   "metadata": {},
   "source": [
    "6. Look at the `GenderPop` column. We are going to want to separate this into two columns, the `Men` column, and the `Women` column."
   ]
  },
  {
   "cell_type": "code",
   "execution_count": 17,
   "metadata": {},
   "outputs": [
    {
     "name": "stdout",
     "output_type": "stream",
     "text": [
      "           0          1\n",
      "0    510388M    543273F\n",
      "1   2322409M   2455167F\n",
      "2    423477M    419713F\n",
      "3   3167756M   3331859F\n",
      "4  13171316M  13367298F\n",
      "5   1459229M   1444150F\n",
      "0   1459229M   1444150F\n",
      "1    308573M    318031F\n",
      "2   4060948M   4195682F\n",
      "3   3487725M   3497739F\n",
      "4    913631M    937789F\n",
      "5   2851385M   2890732F\n",
      "0   2872643M          F\n",
      "1   3249650M   3455936F\n",
      "2   4861973M   5038598F\n",
      "3   2692166M   2727005F\n",
      "4   1451723M   1536358F\n",
      "5   2964003M   3081445F\n",
      "0   2964003M   3081445F\n",
      "1    510163M          F\n",
      "2    929606M    939759F\n",
      "3   1407735M   1390901F\n",
      "4    653484M    670717F\n",
      "5   4343027M   4561386F\n",
      "0   5662893M   5913084F\n",
      "1   1906944M   1942789F\n",
      "2   1948453M   1990780F\n",
      "3   6245344M   6534215F\n",
      "4   1713860M   1869213F\n",
      "5    510388M    543273F\n",
      "0   4343027M   4561386F\n",
      "1   1032414M   1051703F\n",
      "2   9541801M  10131373F\n",
      "3   4795408M   5049925F\n",
      "4    367963M    353677F\n",
      "5   5662893M   5913084F\n",
      "0   4883331M   5123362F\n",
      "1    709871M    696428F\n",
      "2    810464M    806083F\n",
      "3   6316899M   6556862F\n",
      "4   3235263M   3333382F\n",
      "5   1534595M   1558931F\n",
      "0   1534595M   1558931F\n",
      "1   1439862M   1453125F\n",
      "2   2164208M   2233145F\n",
      "3   2261156M   2364097F\n",
      "4    650081M    679019F\n",
      "5   2872643M          F\n",
      "0   2648667M   2630239F\n",
      "1   1751607M   1841615F\n",
      "2    448413M    478041F\n",
      "3    306674M    340810F\n",
      "4   9600009M  10045763F\n",
      "5   4883331M   5123362F\n",
      "0   2341093M   2489527F\n",
      "1    384160M    349215F\n",
      "2   3299088M   3342840F\n",
      "3   1451913M   1506295F\n",
      "4  19087135M  19334329F\n",
      "5   2648667M   2630239F\n"
     ]
    }
   ],
   "source": [
    "gender_pop = states['GenderPop'].str.split('_', expand = True)\n",
    "print(gender_pop) ## only 60 rows and curious if all rows had data. "
   ]
  },
  {
   "cell_type": "markdown",
   "metadata": {},
   "source": [
    "7. Convert both of the columns into numerical datatypes.\n",
    "\n",
    "   There is still an `M` or an `F` character in each entry! We should remove those before we convert."
   ]
  },
  {
   "cell_type": "code",
   "execution_count": 19,
   "metadata": {},
   "outputs": [
    {
     "name": "stdout",
     "output_type": "stream",
     "text": [
      "<class 'pandas.core.frame.DataFrame'>\n",
      "Index: 60 entries, 0 to 5\n",
      "Data columns (total 11 columns):\n",
      " #   Column    Non-Null Count  Dtype  \n",
      "---  ------    --------------  -----  \n",
      " 0   State     60 non-null     object \n",
      " 1   TotalPop  60 non-null     int64  \n",
      " 2   Hispanic  60 non-null     object \n",
      " 3   White     60 non-null     object \n",
      " 4   Black     60 non-null     object \n",
      " 5   Native    60 non-null     object \n",
      " 6   Asian     60 non-null     object \n",
      " 7   Pacific   55 non-null     object \n",
      " 8   Income    60 non-null     float64\n",
      " 9   Men       60 non-null     int64  \n",
      " 10  Women     57 non-null     float64\n",
      "dtypes: float64(2), int64(2), object(7)\n",
      "memory usage: 5.6+ KB\n",
      "            State  TotalPop Hispanic   White   Black Native  Asian Pacific  \\\n",
      "0    Rhode Island   1053661   13.36%  74.33%   5.68%  0.35%  3.25%   0.04%   \n",
      "1  South Carolina   4777576    5.06%  62.89%  28.75%  0.29%  1.25%   0.05%   \n",
      "2    South Dakota    843190    3.24%  82.50%   1.42%  9.42%  1.02%   0.04%   \n",
      "3       Tennessee   6499615    4.72%  73.49%  18.28%  0.23%  1.41%   0.04%   \n",
      "4           Texas  26538614   38.05%  44.69%  11.65%  0.26%  3.67%   0.07%   \n",
      "\n",
      "     Income       Men       Women  \n",
      "0  59125.27    510388    543273.0  \n",
      "1  46296.81   2322409   2455167.0  \n",
      "2  51805.41    423477    419713.0  \n",
      "3  47328.08   3167756   3331859.0  \n",
      "4  55874.52  13171316  13367298.0   None\n"
     ]
    }
   ],
   "source": [
    "states['Men'] = gender_pop[0].str.replace('M', '')\n",
    "states['Women'] = gender_pop[1].str.replace('F','')\n",
    "states = states[['State', 'TotalPop', 'Hispanic', 'White', 'Black', 'Native', 'Asian', 'Pacific', 'Income', 'Men', 'Women']]\n",
    "states['Men'] = pd.to_numeric(states['Men'], errors = 'coerce')\n",
    "states['Women'] = pd.to_numeric(states['Women'], errors = 'coerce')\n",
    "states['Income'] = pd.to_numeric(states['Income'], errors = 'coerce')\n",
    "print(states.head(), states.info())"
   ]
  },
  {
   "cell_type": "markdown",
   "metadata": {},
   "source": [
    "8. Now you should have the columns you need to make the graph and make sure your boss does not slam a ruler angrily on your desk because you've wasted your whole day cleaning your data with no results to show!\n",
    "\n",
    "   Use matplotlib to make a scatterplot!"
   ]
  },
  {
   "cell_type": "code",
   "execution_count": 21,
   "metadata": {},
   "outputs": [
    {
     "data": {
      "image/png": "[encoded data removed]",
      "text/plain": [
       "<Figure size 900x600 with 1 Axes>"
      ]
     },
     "metadata": {},
     "output_type": "display_data"
    },
    {
     "data": {
      "text/plain": [
       "<Figure size 640x480 with 0 Axes>"
      ]
     },
     "metadata": {},
     "output_type": "display_data"
    }
   ],
   "source": [
    "plt.figure(figsize = [9, 6])\n",
    "plt.scatter(states['Women'], states['Income'])\n",
    "plt.title('Women\\'s income by state')\n",
    "plt.xlabel('Population in Millions')\n",
    "plt.ylabel('Income')\n",
    "plt.xticks(\n",
    "    [0, 2500000, 5000000, 7500000, 10000000, 12500000, 15000000, 17500000], \n",
    "    labels = [0, 2.5, 5, 7.5, 10, 12.5, 15, 17.5]\n",
    ")\n",
    "plt.show()\n",
    "plt.clf()"
   ]
  },
  {
   "cell_type": "markdown",
   "metadata": {},
   "source": [
    "9. You want to double check your work. You know from experience that these monstrous csv files probably have `nan` values in them! Print out your column with the number of women per state to see."
   ]
  },
  {
   "cell_type": "code",
   "execution_count": 23,
   "metadata": {},
   "outputs": [
    {
     "name": "stdout",
     "output_type": "stream",
     "text": [
      "                  State       Women\n",
      "0          Rhode Island    543273.0\n",
      "1        South Carolina   2455167.0\n",
      "2          South Dakota    419713.0\n",
      "3             Tennessee   3331859.0\n",
      "4                 Texas  13367298.0\n",
      "5                  Utah   1444150.0\n",
      "0                  Utah   1444150.0\n",
      "1               Vermont    318031.0\n",
      "2              Virginia   4195682.0\n",
      "3            Washington   3497739.0\n",
      "4         West Virginia    937789.0\n",
      "5             Wisconsin   2890732.0\n",
      "0              Maryland         NaN\n",
      "1         Massachusetts   3455936.0\n",
      "2              Michigan   5038598.0\n",
      "3             Minnesota   2727005.0\n",
      "4           Mississippi   1536358.0\n",
      "5              Missouri   3081445.0\n",
      "0              Missouri   3081445.0\n",
      "1               Montana         NaN\n",
      "2              Nebraska    939759.0\n",
      "3                Nevada   1390901.0\n",
      "4         New Hampshire    670717.0\n",
      "5            New Jersey   4561386.0\n",
      "0                  Ohio   5913084.0\n",
      "1              Oklahoma   1942789.0\n",
      "2                Oregon   1990780.0\n",
      "3          Pennsylvania   6534215.0\n",
      "4           Puerto Rico   1869213.0\n",
      "5          Rhode Island    543273.0\n",
      "0            New Jersey   4561386.0\n",
      "1            New Mexico   1051703.0\n",
      "2              New York  10131373.0\n",
      "3        North Carolina   5049925.0\n",
      "4          North Dakota    353677.0\n",
      "5                  Ohio   5913084.0\n",
      "0               Georgia   5123362.0\n",
      "1                Hawaii    696428.0\n",
      "2                 Idaho    806083.0\n",
      "3              Illinois   6556862.0\n",
      "4               Indiana   3333382.0\n",
      "5                  Iowa   1558931.0\n",
      "0                  Iowa   1558931.0\n",
      "1                Kansas   1453125.0\n",
      "2              Kentucky   2233145.0\n",
      "3             Louisiana   2364097.0\n",
      "4                 Maine    679019.0\n",
      "5              Maryland         NaN\n",
      "0              Colorado   2630239.0\n",
      "1           Connecticut   1841615.0\n",
      "2              Delaware    478041.0\n",
      "3  District of Columbia    340810.0\n",
      "4               Florida  10045763.0\n",
      "5               Georgia   5123362.0\n",
      "0               Alabama   2489527.0\n",
      "1                Alaska    349215.0\n",
      "2               Arizona   3342840.0\n",
      "3              Arkansas   1506295.0\n",
      "4            California  19334329.0\n",
      "5              Colorado   2630239.0\n"
     ]
    }
   ],
   "source": [
    "print(states[['State', 'Women']])"
   ]
  },
  {
   "cell_type": "markdown",
   "metadata": {},
   "source": [
    "We can fill in those nans by using pandas' .fillna() function.\n",
    "\n",
    "You have the TotalPop per state, and you have the Men per state. As an estimate for the nan values in the Women column, you could use the TotalPop of that state minus the Men for that state.\n",
    "\n",
    "Print out the Women column after filling the nan values to see if it worked!"
   ]
  },
  {
   "cell_type": "code",
   "execution_count": 25,
   "metadata": {},
   "outputs": [
    {
     "name": "stdout",
     "output_type": "stream",
     "text": [
      "            State  TotalPop Hispanic   White   Black Native  Asian Pacific  \\\n",
      "0    Rhode Island   1053661   13.36%  74.33%   5.68%  0.35%  3.25%   0.04%   \n",
      "1  South Carolina   4777576    5.06%  62.89%  28.75%  0.29%  1.25%   0.05%   \n",
      "2    South Dakota    843190    3.24%  82.50%   1.42%  9.42%  1.02%   0.04%   \n",
      "3       Tennessee   6499615    4.72%  73.49%  18.28%  0.23%  1.41%   0.04%   \n",
      "4           Texas  26538614   38.05%  44.69%  11.65%  0.26%  3.67%   0.07%   \n",
      "\n",
      "     Income       Men       Women  \n",
      "0  59125.27    510388    543273.0  \n",
      "1  46296.81   2322409   2455167.0  \n",
      "2  51805.41    423477    419713.0  \n",
      "3  47328.08   3167756   3331859.0  \n",
      "4  55874.52  13171316  13367298.0  \n"
     ]
    }
   ],
   "source": [
    "states['Women'] = states['Women'].fillna(states['TotalPop'] - states['Men'])\n",
    "print(states.head())"
   ]
  },
  {
   "cell_type": "markdown",
   "metadata": {},
   "source": [
    "10. We forgot to check for duplicates! Use `.duplicated()` on your `census` DataFrame to see if we have duplicate rows in there."
   ]
  },
  {
   "cell_type": "code",
   "execution_count": 27,
   "metadata": {},
   "outputs": [
    {
     "name": "stdout",
     "output_type": "stream",
     "text": [
      "0    False\n",
      "1    False\n",
      "2    False\n",
      "3    False\n",
      "4    False\n",
      "5    False\n",
      "0     True\n",
      "1    False\n",
      "2    False\n",
      "3    False\n",
      "4    False\n",
      "5    False\n",
      "0    False\n",
      "1    False\n",
      "2    False\n",
      "3    False\n",
      "4    False\n",
      "5    False\n",
      "0     True\n",
      "1    False\n",
      "2    False\n",
      "3    False\n",
      "4    False\n",
      "5    False\n",
      "0    False\n",
      "1    False\n",
      "2    False\n",
      "3    False\n",
      "4    False\n",
      "5     True\n",
      "0     True\n",
      "1    False\n",
      "2    False\n",
      "3    False\n",
      "4    False\n",
      "5     True\n",
      "0    False\n",
      "1    False\n",
      "2    False\n",
      "3    False\n",
      "4    False\n",
      "5    False\n",
      "0     True\n",
      "1    False\n",
      "2    False\n",
      "3    False\n",
      "4    False\n",
      "5     True\n",
      "0    False\n",
      "1    False\n",
      "2    False\n",
      "3    False\n",
      "4    False\n",
      "5     True\n",
      "0    False\n",
      "1    False\n",
      "2    False\n",
      "3    False\n",
      "4    False\n",
      "5     True\n",
      "dtype: bool\n"
     ]
    }
   ],
   "source": [
    "print(states.duplicated())"
   ]
  },
  {
   "cell_type": "markdown",
   "metadata": {},
   "source": [
    "11. Drop those duplicates using the `.drop_duplicates()` function."
   ]
  },
  {
   "cell_type": "code",
   "execution_count": 29,
   "metadata": {},
   "outputs": [
    {
     "name": "stdout",
     "output_type": "stream",
     "text": [
      "<class 'pandas.core.frame.DataFrame'>\n",
      "Index: 51 entries, 0 to 4\n",
      "Data columns (total 11 columns):\n",
      " #   Column    Non-Null Count  Dtype  \n",
      "---  ------    --------------  -----  \n",
      " 0   State     51 non-null     object \n",
      " 1   TotalPop  51 non-null     int64  \n",
      " 2   Hispanic  51 non-null     object \n",
      " 3   White     51 non-null     object \n",
      " 4   Black     51 non-null     object \n",
      " 5   Native    51 non-null     object \n",
      " 6   Asian     51 non-null     object \n",
      " 7   Pacific   47 non-null     object \n",
      " 8   Income    51 non-null     float64\n",
      " 9   Men       51 non-null     int64  \n",
      " 10  Women     51 non-null     float64\n",
      "dtypes: float64(2), int64(2), object(7)\n",
      "memory usage: 4.8+ KB\n",
      "None\n"
     ]
    }
   ],
   "source": [
    "states = states.drop_duplicates()\n",
    "print(states.info())"
   ]
  },
  {
   "cell_type": "markdown",
   "metadata": {},
   "source": [
    "12. Make the scatterplot again. Now, it should be perfect! Your job is secure, for now."
   ]
  },
  {
   "cell_type": "code",
   "execution_count": 31,
   "metadata": {},
   "outputs": [
    {
     "name": "stdout",
     "output_type": "stream",
     "text": [
      "Intercept    54696.706969\n",
      "Women            0.000385\n",
      "dtype: float64\n"
     ]
    }
   ],
   "source": [
    "import statsmodels.api as sm\n",
    "model = sm.OLS.from_formula('Income ~ Women', states)\n",
    "results = model.fit()\n",
    "print(results.params)"
   ]
  },
  {
   "cell_type": "code",
   "execution_count": 46,
   "metadata": {},
   "outputs": [
    {
     "name": "stderr",
     "output_type": "stream",
     "text": [
      "/var/folders/30/lzj3_85d6s1b6602f906tzq00000gn/T/ipykernel_15507/3042846197.py:11: FutureWarning: Series.__getitem__ treating keys as positions is deprecated. In a future version, integer keys will always be treated as labels (consistent with DataFrame behavior). To access a value by position, use `ser.iloc[pos]`\n",
      "  results.params[1] * results.predict(states['Women']) + results.params[0],\n",
      "/var/folders/30/lzj3_85d6s1b6602f906tzq00000gn/T/ipykernel_15507/3042846197.py:11: FutureWarning: Series.__getitem__ treating keys as positions is deprecated. In a future version, integer keys will always be treated as labels (consistent with DataFrame behavior). To access a value by position, use `ser.iloc[pos]`\n",
      "  results.params[1] * results.predict(states['Women']) + results.params[0],\n"
     ]
    },
    {
     "data": {
      "image/png": "[encoded data removed]",
      "text/plain": [
       "<Figure size 900x600 with 1 Axes>"
      ]
     },
     "metadata": {},
     "output_type": "display_data"
    },
    {
     "data": {
      "text/plain": [
       "<Figure size 640x480 with 0 Axes>"
      ]
     },
     "metadata": {},
     "output_type": "display_data"
    }
   ],
   "source": [
    "plt.figure(figsize = [9, 6])\n",
    "plt.scatter(states['Women'], states['Income'])\n",
    "plt.title('Women\\'s income by state')\n",
    "plt.xlabel('Population in Millions')\n",
    "plt.ylabel('Income')\n",
    "plt.xticks(\n",
    "    [0, 2500000, 5000000, 7500000, 10000000, 12500000, 15000000, 17500000], \n",
    "    labels = [0, 2.5, 5, 7.5, 10, 12.5, 15, 17.5]\n",
    ")\n",
    "plt.plot(states['Women'], \n",
    "         results.params[1] * results.predict(states['Women']) + results.params[0], \n",
    "         color = 'green', \n",
    "         label = 'Best Fit Line'\n",
    "        )\n",
    "plt.legend()\n",
    "plt.show()\n",
    "plt.clf()"
   ]
  },
  {
   "cell_type": "markdown",
   "metadata": {},
   "source": [
    "## Histogram of Races"
   ]
  },
  {
   "cell_type": "markdown",
   "metadata": {},
   "source": [
    "13. Now your boss wants you to make a bunch of histograms out of the race data that you have. Look at the `.columns` again to see what the race categories are."
   ]
  },
  {
   "cell_type": "code",
   "execution_count": 35,
   "metadata": {},
   "outputs": [
    {
     "name": "stdout",
     "output_type": "stream",
     "text": [
      "Index(['State', 'TotalPop', 'Hispanic', 'White', 'Black', 'Native', 'Asian',\n",
      "       'Pacific', 'Income', 'Men', 'Women'],\n",
      "      dtype='object')\n"
     ]
    }
   ],
   "source": [
    "print(states.columns)"
   ]
  },
  {
   "cell_type": "markdown",
   "metadata": {},
   "source": [
    "14. Try to make a histogram for each one!\n",
    "\n",
    "    You will have to get the columns into the numerical format, and those percentage signs will have to go.\n",
    "    \n",
    "    Don't forget to fill the `nan` values with something that makes sense! You probably dropped the duplicate rows when making your last graph, but it couldn't hurt to check for duplicates again."
   ]
  },
  {
   "cell_type": "code",
   "execution_count": 37,
   "metadata": {},
   "outputs": [
    {
     "name": "stdout",
     "output_type": "stream",
     "text": [
      "State       0\n",
      "TotalPop    0\n",
      "Hispanic    0\n",
      "White       0\n",
      "Black       0\n",
      "Native      0\n",
      "Asian       0\n",
      "Pacific     4\n",
      "Income      0\n",
      "Men         0\n",
      "Women       0\n",
      "dtype: int64\n"
     ]
    }
   ],
   "source": [
    "print(states.isnull().sum())"
   ]
  },
  {
   "cell_type": "code",
   "execution_count": 38,
   "metadata": {},
   "outputs": [
    {
     "name": "stdout",
     "output_type": "stream",
     "text": [
      "<class 'pandas.core.frame.DataFrame'>\n",
      "Index: 51 entries, 0 to 4\n",
      "Data columns (total 11 columns):\n",
      " #   Column    Non-Null Count  Dtype  \n",
      "---  ------    --------------  -----  \n",
      " 0   State     51 non-null     object \n",
      " 1   TotalPop  51 non-null     int64  \n",
      " 2   Hispanic  51 non-null     float64\n",
      " 3   White     51 non-null     float64\n",
      " 4   Black     51 non-null     float64\n",
      " 5   Native    51 non-null     float64\n",
      " 6   Asian     51 non-null     float64\n",
      " 7   Pacific   47 non-null     object \n",
      " 8   Income    51 non-null     float64\n",
      " 9   Men       51 non-null     int64  \n",
      " 10  Women     51 non-null     float64\n",
      "dtypes: float64(7), int64(2), object(2)\n",
      "memory usage: 4.8+ KB\n",
      "          State  TotalPop  Hispanic  White  Black  Native  Asian Pacific  \\\n",
      "4  North Dakota    721640      2.83  87.45   1.28    5.65   0.96     NaN   \n",
      "1        Kansas   2892987     11.64  75.96   6.57    0.73   2.33     NaN   \n",
      "0      Colorado   5278906     20.78  69.90   3.55    0.57   2.66     NaN   \n",
      "2      Delaware    926454      8.82  64.63  20.74    0.26   3.27     NaN   \n",
      "\n",
      "     Income      Men      Women  \n",
      "4  58188.11   367963   353677.0  \n",
      "1  53885.61  1439862  1453125.0  \n",
      "0  64657.80  2648667  2630239.0  \n",
      "2  61827.98   448413   478041.0   None\n"
     ]
    }
   ],
   "source": [
    "for col in ['Hispanic', 'White', 'Black', 'Native', 'Asian']:\n",
    "    states[col] = states[col].str.replace('%', '')\n",
    "for col in ['Hispanic', 'White', 'Black', 'Native', 'Asian']:\n",
    "    states[col] = pd.to_numeric(states[col], errors='coerce')\n",
    "print(states[states.Pacific.isnull()], states.info())"
   ]
  },
  {
   "cell_type": "code",
   "execution_count": 39,
   "metadata": {},
   "outputs": [
    {
     "name": "stdout",
     "output_type": "stream",
     "text": [
      "<class 'pandas.core.frame.DataFrame'>\n",
      "Index: 51 entries, 0 to 4\n",
      "Data columns (total 11 columns):\n",
      " #   Column    Non-Null Count  Dtype  \n",
      "---  ------    --------------  -----  \n",
      " 0   State     51 non-null     object \n",
      " 1   TotalPop  51 non-null     int64  \n",
      " 2   Hispanic  51 non-null     float64\n",
      " 3   White     51 non-null     float64\n",
      " 4   Black     51 non-null     float64\n",
      " 5   Native    51 non-null     float64\n",
      " 6   Asian     51 non-null     float64\n",
      " 7   Pacific   51 non-null     float64\n",
      " 8   Income    51 non-null     float64\n",
      " 9   Men       51 non-null     int64  \n",
      " 10  Women     51 non-null     float64\n",
      "dtypes: float64(8), int64(2), object(1)\n",
      "memory usage: 4.8+ KB\n",
      "None\n",
      "    State  TotalPop  Hispanic  White  Black  Native  Asian  Pacific    Income  \\\n",
      "1  Kansas   2892987     11.64  75.96   6.57    0.73   2.33     2.77  53885.61   \n",
      "\n",
      "       Men      Women  \n",
      "1  1439862  1453125.0  \n",
      "      State  TotalPop  Hispanic  White  Black  Native  Asian  Pacific  \\\n",
      "2  Nebraska   1869365       9.2  81.14   4.96    0.86   1.86     0.06   \n",
      "\n",
      "     Income     Men     Women  \n",
      "2  55916.47  929606  939759.0  \n"
     ]
    }
   ],
   "source": [
    "states['Pacific'] = states['Pacific'].str.replace('%', '')\n",
    "states['Pacific'] = pd.to_numeric(states['Pacific'], errors='coerce')\n",
    "states['Pacific'] = states['Pacific'].fillna(\n",
    "    100 - sum(states[x] for x in ['Hispanic', 'White', 'Black', 'Native', 'Asian'])\n",
    ")\n",
    "print(states.info())\n",
    "print(states[states['State'] == 'Kansas']) #check previous nan filled\n",
    "print(states[states['State'] == 'Nebraska']) #random "
   ]
  },
  {
   "cell_type": "code",
   "execution_count": 40,
   "metadata": {},
   "outputs": [
    {
     "data": {
      "image/png": "[encoded data removed]",
      "text/plain": [
       "<Figure size 700x500 with 6 Axes>"
      ]
     },
     "metadata": {},
     "output_type": "display_data"
    },
    {
     "data": {
      "text/plain": [
       "<Figure size 640x480 with 0 Axes>"
      ]
     },
     "metadata": {},
     "output_type": "display_data"
    }
   ],
   "source": [
    "plt.figure(figsize = [7 , 5])\n",
    "plt.subplot(2, 3, 1)\n",
    "plt.subplots_adjust(wspace = .5, hspace = .5)\n",
    "plt.hist(states['Hispanic'], bins = 8)\n",
    "plt.title('Hispanic')\n",
    "plt.subplot(2, 3, 2)\n",
    "plt.hist(states['White'], bins = 8)\n",
    "plt.title('White')\n",
    "plt.subplot(2, 3, 3)\n",
    "plt.hist(states['Black'], bins = 8)\n",
    "plt.title('Black')\n",
    "plt.subplot(2, 3, 4)\n",
    "plt.hist(states['Native'], bins = 6)\n",
    "plt.title('Native')\n",
    "plt.ylabel('Number of states')\n",
    "plt.xlabel('Percent of Population')\n",
    "plt.subplot(2, 3, 5)\n",
    "plt.hist(states['Asian'], bins = 8)\n",
    "plt.title('Asian')\n",
    "plt.subplot(2, 3, 6)\n",
    "plt.hist(states['Pacific'], bins = 8)\n",
    "plt.title('Pacific')\n",
    "plt.show()\n",
    "plt.clf()"
   ]
  }
 ],
 "metadata": {
  "kernelspec": {
   "display_name": "Python 3 (ipykernel)",
   "language": "python",
   "name": "python3"
  },
  "language_info": {
   "codemirror_mode": {
    "name": "ipython",
    "version": 3
   },
   "file_extension": ".py",
   "mimetype": "text/x-python",
   "name": "python",
   "nbconvert_exporter": "python",
   "pygments_lexer": "ipython3",
   "version": "3.12.4"
  }
 },
 "nbformat": 4,
 "nbformat_minor": 4
}
